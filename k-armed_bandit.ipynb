{
  "nbformat": 4,
  "nbformat_minor": 0,
  "metadata": {
    "colab": {
      "provenance": [],
      "authorship_tag": "ABX9TyOHSCONhiyyZ91ygbN8XYVj",
      "include_colab_link": true
    },
    "kernelspec": {
      "name": "python3",
      "display_name": "Python 3"
    },
    "language_info": {
      "name": "python"
    }
  },
  "cells": [
    {
      "cell_type": "markdown",
      "metadata": {
        "id": "view-in-github",
        "colab_type": "text"
      },
      "source": [
        "<a href=\"https://colab.research.google.com/github/syeyoun/sum_artificial/blob/masin/k-armed_bandit.ipynb\" target=\"_parent\"><img src=\"https://colab.research.google.com/assets/colab-badge.svg\" alt=\"Open In Colab\"/></a>"
      ]
    },
    {
      "cell_type": "code",
      "execution_count": 3,
      "metadata": {
        "id": "75a9RA1one4V"
      },
      "outputs": [],
      "source": [
        "import numpy as np"
      ]
    },
    {
      "cell_type": "code",
      "source": [
        "# 1. 초기화\n",
        "# (1) bandit 설정 (bandit 1 ~ 3을 사용할 것이므로 bandit[0]은 0으로 초기화)\n",
        "bandit = [[0, 0, 0, 0, 0],\n",
        "[1, 0, 8, 5, 2],\n",
        "[0, 1, -1, 2, 28],\n",
        "[7, -3, -3, -3, -3]]\n",
        "# (2) bandit에서 실행할 횟수\n",
        "action = [0, -1, -1, -1]\n",
        "# (3) Q 함수 (0으로 초기화)\n",
        "Q = np.array([-1.0, 0.0, 0.0, 0.0])\n",
        "# (4) alpha를 0.5로 초기화\n",
        "alpha = 0.5"
      ],
      "metadata": {
        "id": "cDP5C4S9oW_t"
      },
      "execution_count": 5,
      "outputs": []
    },
    {
      "cell_type": "markdown",
      "source": [],
      "metadata": {
        "id": "1WKqbYFbOI18"
      }
    },
    {
      "cell_type": "code",
      "source": [
        "# 2. k-armed bandit 수행\n",
        "# (1) 1번째로 선택할 bandit의 action을 선택\n",
        "selected = 3\n",
        "print(f\"[1] bandit {selected}\")\n",
        "action[selected] += 1"
      ],
      "metadata": {
        "colab": {
          "base_uri": "https://localhost:8080/"
        },
        "id": "ZPD3r43oob4K",
        "outputId": "a39db645-45b0-4a73-b64d-4e4135028be5"
      },
      "execution_count": 6,
      "outputs": [
        {
          "output_type": "stream",
          "name": "stdout",
          "text": [
            "[1] bandit 3\n"
          ]
        }
      ]
    },
    {
      "cell_type": "code",
      "source": [
        "# (2) 4번 bandit 선택을 수행\n",
        "for i in range(1, 5):\n",
        "    # (2-1) 선택한 bandit의 reward 가져오기\n",
        "    reward = bandit[selected][action[selected]]\n",
        "    # (2-2) 선택된 bandit의 Q 값 갱신\n",
        "    Q[selected] = Q[selected] + alpha * (reward - Q[selected])\n",
        "    # (2-3) 다음 action 선택\n",
        "    selected = np.argmax(Q)\n",
        "    print(f\"[{i+1}] bandit {selected} is selected\")\n",
        "    # (2-4) 선택한 bandit의 다음 action으로 이동\n",
        "    action[selected] += 1"
      ],
      "metadata": {
        "colab": {
          "base_uri": "https://localhost:8080/"
        },
        "id": "iTXhyJUYofBS",
        "outputId": "5fddd312-3af2-4c80-8d2f-db081432cc19"
      },
      "execution_count": 7,
      "outputs": [
        {
          "output_type": "stream",
          "name": "stdout",
          "text": [
            "[2] bandit 3 is selected\n",
            "[3] bandit 3 is selected\n",
            "[4] bandit 1 is selected\n",
            "[5] bandit 1 is selected\n"
          ]
        }
      ]
    },
    {
      "cell_type": "code",
      "source": [
        "class Bandit:\n",
        "# (1) 변수 설정\n",
        "  def __init__(self, k, means, std_devs):\n",
        "    self.k = k\n",
        "    self.rewards = np.array([np.random.normal(loc=mean, scale=std_dev)\n",
        "      for mean, std_dev in zip(means, std_devs)])\n",
        "    self.Qs = np.zeros(k) # action values for each action\n",
        "    self.num_selected = np.zeros(k) # number of times each action was selected\n",
        "# (2) reward 함수 정의: 선택한 action에 대한 reward를 return\n",
        "  def get_reward(self, action):\n",
        "      reward = self.rewards[action]\n",
        "      return reward\n",
        "# (3) action 선택 함수 정의: 다음 action은 action_values (Qs) 중에서\n",
        "# 가장 큰 값으로 선택\n",
        "  def choose_action(self):\n",
        "      action = np.argmax(self.Qs)\n",
        "      return action\n",
        "  # (4) action value (Q)를 update하는 함수 정의\n",
        "  def update_Qs(self, action, reward):\n",
        "      self.num_selected[action] += 1\n",
        "      alpha = 1.0 / self.num_selected[action]\n",
        "      self.Qs[action] += alpha * (reward - self.Qs[action])"
      ],
      "metadata": {
        "id": "l0k3Q6qmLIzc"
      },
      "execution_count": 22,
      "outputs": []
    },
    {
      "cell_type": "code",
      "source": [
        "# (1) arm의 수 설정\n",
        "k = 3\n",
        "# (2) k-armed baidnt 초기화: Mean values for each action\n",
        "means = [2.75, 2.0, 2.5]\n",
        "std_devs = [0.5, 3.0, 2.0]\n",
        "bandit = Bandit(k, means, std_devs)\n",
        "# (3) 수행 횟수 설정\n",
        "n_iterations = 1000"
      ],
      "metadata": {
        "id": "rHadjC36LjRI"
      },
      "execution_count": 17,
      "outputs": []
    },
    {
      "cell_type": "code",
      "source": [
        "sum_reward = 0\n",
        "for i in range(n_iterations):\n",
        "  # (1) action을 수행할 bandit을 결정\n",
        "  action = bandit.choose_action()\n",
        "  # 첫번째 action은 1로 선택\n",
        "  if (i == 0):\n",
        "      action = 1\n",
        "      print(action)\n",
        "\n",
        "      # (2) 선택한 action의 reward 가져오기\n",
        "      reward = bandit.get_reward(action)\n",
        "      sum_reward += reward\n",
        "\n",
        "      # (3) 선택한 action의 Q 값 갱신\n",
        "      bandit.update_Qs(action, reward)"
      ],
      "metadata": {
        "colab": {
          "base_uri": "https://localhost:8080/"
        },
        "id": "Ck4ZQwCaLnWI",
        "outputId": "822925f5-8dcc-490f-f005-1e87439d63b2"
      },
      "execution_count": 23,
      "outputs": [
        {
          "output_type": "stream",
          "name": "stdout",
          "text": [
            "1\n"
          ]
        }
      ]
    },
    {
      "cell_type": "code",
      "source": [
        "print(\"Number of selections for each action: \", bandit.num_selected)\n",
        "print(\"Estimated values for each action: \", bandit.Qs)\n",
        "print(\"Sum of reward:\", sum_reward)"
      ],
      "metadata": {
        "colab": {
          "base_uri": "https://localhost:8080/"
        },
        "id": "Mzq8HOXsLvvA",
        "outputId": "c90b38a7-5577-4d11-9ce8-bba6a9e1537b"
      },
      "execution_count": 24,
      "outputs": [
        {
          "output_type": "stream",
          "name": "stdout",
          "text": [
            "Number of selections for each action:  [0. 1. 0.]\n",
            "Estimated values for each action:  [0.         2.79490219 0.        ]\n",
            "Sum of reward: 2.7949021895885773\n"
          ]
        }
      ]
    },
    {
      "cell_type": "code",
      "source": [
        "## greedy method\n",
        "\n",
        "class Bandit:\n",
        "# (1) 변수 설정\n",
        "  def __init__(self, k, means, std_devs):\n",
        "    self.epsilon = 0.1\n",
        "    self.k = k\n",
        "    self.rewards = np.array([np.random.normal(loc=mean, scale=std_dev)\n",
        "    for mean, std_dev in zip(means, std_devs)])\n",
        "\n",
        "    self.Qs = np.zeros(k) # action values for each action\n",
        "    self.num_selected = np.zeros(k) # number of times each action was selected\n",
        "# (2) reward 함수 정의: 선택한 action에 대한 reward를 return\n",
        "  def get_reward(self, action):\n",
        "      reward = self.rewards[action]\n",
        "      return reward\n",
        "# (3) action 선택 함수 정의: 다음 action은 action_values (Qs) 중에서\n",
        "# 가장 큰 값으로 선택\n",
        "  def choose_action(self):\n",
        "      if np.random.random() < self.epsilon:\n",
        "          action = np.random.choice(self.k)\n",
        "      else:\n",
        "          action = np.argmax(self.Qs)\n",
        "      return action\n",
        "  # (4) action value (Q)를 update하는 함수 정의\n",
        "  def update_Qs(self, action, reward):\n",
        "      self.num_selected[action] += 1\n",
        "      alpha = 1.0 / self.num_selected[action]\n",
        "      self.Qs[action] += alpha * (reward - self.Qs[action])"
      ],
      "metadata": {
        "id": "TxcIIUg_NYDf"
      },
      "execution_count": 45,
      "outputs": []
    },
    {
      "cell_type": "code",
      "source": [
        "# (1) arm의 수 설정\n",
        "k = 3\n",
        "\n",
        "# (2) k-armed baidnt 초기화: Mean values for each action\n",
        "means = [2.75, 2.0, 2.5]\n",
        "std_devs = [0.5, 3.0, 2.0]\n",
        "bandit = Bandit(k, means, std_devs)\n",
        "\n",
        "# (3) 수행 횟수 설정\n",
        "n_iterations = 1000\n",
        "\n",
        "sum_reward = 0\n",
        "\n",
        "for i in range(n_iterations):\n",
        "  # (1) action을 수행할 bandit을 결정\n",
        "  action = bandit.choose_action()\n",
        "  # 첫번째 action은 1로 선택\n",
        "  if (i == 0):\n",
        "      action = 1\n",
        "      print(action)\n",
        "\n",
        "      # (2) 선택한 action의 reward 가져오기\n",
        "      reward = bandit.get_reward(action)\n",
        "      sum_reward += reward\n",
        "\n",
        "      # (3) 선택한 action의 Q 값 갱신\n",
        "      bandit.update_Qs(action, reward)\n",
        "\n",
        "print(\"Number of selections for each action: \", bandit.num_selected)\n",
        "print(\"Estimated values for each action: \", bandit.Qs)\n",
        "print(\"Sum of reward:\", sum_reward)"
      ],
      "metadata": {
        "colab": {
          "base_uri": "https://localhost:8080/"
        },
        "id": "GEqkYm_wOrGc",
        "outputId": "dd0a40ea-768a-4993-8221-39f87aa3ec6e"
      },
      "execution_count": 46,
      "outputs": [
        {
          "output_type": "stream",
          "name": "stdout",
          "text": [
            "1\n",
            "Number of selections for each action:  [0. 1. 0.]\n",
            "Estimated values for each action:  [0.         0.35508421 0.        ]\n",
            "Sum of reward: 0.35508420717594325\n"
          ]
        }
      ]
    },
    {
      "cell_type": "code",
      "source": [
        "## Optimistic\n",
        "\n",
        "class Bandit:\n",
        "  # (1) 변수 설정\n",
        "  def __init__(self, k, means, std_devs, initial_value):\n",
        "      self.k = k\n",
        "      self.rewards = np.array([np.random.normal(loc=mean, scale=std_dev)\n",
        "                              for mean, std_dev in zip(means, std_devs)])\n",
        "      self.Qs = np.full(k, initial_value) # action values for each action\n",
        "      self.num_selected = np.zeros(k) # number of times each action was selected\n",
        "\n",
        "# (2) reward 함수 정의: 선택한 action에 대한 reward를 return\n",
        "  def get_reward(self, action):\n",
        "      reward = self.rewards[action]\n",
        "      return reward\n",
        "# (3) action 선택 함수 정의: 다음 action은 action_values (Qs) 중에서\n",
        "# 가장 큰 값으로 선택\n",
        "  def choose_action(self):\n",
        "      action = np.argmax(self.Qs)\n",
        "      return action\n",
        "  # (4) action value (Q)를 update하는 함수 정의\n",
        "  def update_Qs(self, action, reward):\n",
        "      self.num_selected[action] += 1\n",
        "      alpha = 1.0 / self.num_selected[action]\n",
        "      self.Qs[action] += alpha * (reward - self.Qs[action])"
      ],
      "metadata": {
        "id": "7ZdoW4MJQlWw"
      },
      "execution_count": 50,
      "outputs": []
    },
    {
      "cell_type": "code",
      "source": [
        "# (1) arm의 수 설정\n",
        "k = 3\n",
        "\n",
        "# (2) k-armed baidnt 초기화: Mean values for each action\n",
        "means = [2.75, 2.0, 2.5]\n",
        "std_devs = [0.5, 3.0, 2.0]\n",
        "initial_value = 10.0\n",
        "bandit = Bandit(k, means, std_devs, initial_value)\n",
        "\n",
        "# (3) 수행 횟수 설정\n",
        "n_iterations = 1000\n",
        "\n",
        "sum_reward = 0\n",
        "\n",
        "for i in range(n_iterations):\n",
        "  # (1) action을 수행할 bandit을 결정\n",
        "  action = bandit.choose_action()\n",
        "  # 첫번째 action은 1로 선택\n",
        "  if (i == 0):\n",
        "      action = 1\n",
        "      print(action)\n",
        "\n",
        "      # (2) 선택한 action의 reward 가져오기\n",
        "      reward = bandit.get_reward(action)\n",
        "      sum_reward += reward\n",
        "\n",
        "      # (3) 선택한 action의 Q 값 갱신\n",
        "      bandit.update_Qs(action, reward)\n",
        "\n",
        "print(\"Number of selections for each action: \", bandit.num_selected)\n",
        "print(\"Estimated values for each action: \", bandit.Qs)\n",
        "print(\"Sum of reward:\", sum_reward)"
      ],
      "metadata": {
        "colab": {
          "base_uri": "https://localhost:8080/"
        },
        "id": "pJ7hiM77QXJN",
        "outputId": "9775d051-296e-439d-bad1-ccfca1120903"
      },
      "execution_count": 51,
      "outputs": [
        {
          "output_type": "stream",
          "name": "stdout",
          "text": [
            "1\n",
            "Number of selections for each action:  [0. 1. 0.]\n",
            "Estimated values for each action:  [10.          2.30354574 10.        ]\n",
            "Sum of reward: 2.303545743782179\n"
          ]
        }
      ]
    }
  ]
}